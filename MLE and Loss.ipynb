{
 "cells": [
  {
   "attachments": {},
   "cell_type": "markdown",
   "metadata": {},
   "source": [
    "# 极大似然估计\n",
    "极大似然其实是一种估计模型参数的方法，也称极大似然估计，也就是给定一个已知的结果，我们估计一个概率模型所拥有的参数。\n",
    "\n",
    "比如说对于一个抛硬币的模型，我们现在知道正反面各自概率应该是0.5。那么假设我们抛10次硬币，理想情况下应该是正反面次数各自是5次，虽然不是一定会发生这种情况，但我们是认为发生这种情况的概率应该是最大，最有可能发生的。那么假如我们不知道抛硬币模型所具有的“参数”，我们抛了10次硬币，得到的结果是正面7次，反面3次。我们要基于这个结果估计抛硬币模型所具有的“参数”。这就是**极大似然估计**的思想。\n",
    "\n",
    "针对这个抛硬币的概率模型，我们设抛出正面的概率为$\\theta$，抛出反面概率则为$1-\\theta$。针对上述事件$A$发生的概率为\n",
    "$$\n",
    "\\begin{aligned}\n",
    "P(A|\\theta)&=\\prod\\limits_{i=1}^{10}{P(A_i|\\theta)} \\\\\n",
    "&=\\theta^7(1-\\theta)^3\n",
    "\\end{aligned}\n",
    "$$\n",
    "该结果的值是我们估计，称为似然值。连乘符号可以取对数改为求和\n",
    "$$\n",
    "\\begin{aligned}\n",
    "logP(A|\\theta)&=log\\sum\\limits_{i=1}^{10}{P(A_i|\\theta)} \\\\\n",
    "&=7log\\theta+3log(1-\\theta)\n",
    "\\end{aligned}\n",
    "$$\n",
    "极大似然估计就是求上式的最大值，令$(log(P(A|\\theta)))'=0$，解得$\\theta=0.7$，即基于上述事件的结果，我们认为这个抛硬币模型应该是抛出正面的概率为0.7，抛出反面概率为0.3。实际上事件样本数量太少会导致模型参数估计的误差较大，应该增加抽样次数再对模型进行估计，如果我们抛了10000次硬币再进行极大似然估计，得到的参数$\\theta$应该会非常接近于0.5。\n",
    "\n",
    "用更数学一点的语言表示极大似然：令$D_c$表示为数据集$D$中第$c$类样本组成的集合，假设这些样本是独立同分布的，则参数$\\bold\\theta_c$对于数据集$D_c$的似然是\n",
    "$$\n",
    "P(D_c|\\theta_c)=\\prod\\limits_{x\\in{D_c}}P(x|\\theta_c)\n",
    "$$\n",
    "对$\\theta_c$进行极大似然估计，采用对数似然\n",
    "$$\n",
    "LL(\\theta_c)=\\sum\\limits_{x\\in{D_c}}{log(P(x|\\theta_c))}\n",
    "$$\n",
    "此时参数$\\theta_c$的极大似然估计$\\hat{\\theta}_c$为\n",
    "$$\n",
    "\\hat{\\theta}_c=\\mathop{\\arg\\max}\\limits_{\\theta_c}{LL(\\theta_c)}=\\mathop{\\arg\\max}\\limits_{\\theta_c}{\\sum\\limits_{x\\in{D_c}}{log(P(x|\\theta_c))}}\n",
    "$$\n",
    "一般经常用的是最小化负对数似然\n",
    "$$\n",
    "\\hat{\\theta}_c=\\mathop{\\arg\\min}\\limits_{\\theta_c}-{LL(\\theta_c)}=\\mathop{\\arg\\min}\\limits_{\\theta_c}-{\\sum\\limits_{x\\in{D_c}}{log(P(x|\\theta_c))}}\n",
    "$$"
   ]
  },
  {
   "cell_type": "code",
   "execution_count": null,
   "metadata": {},
   "outputs": [],
   "source": [
    "import numpy as np\n",
    "import pandas as pd\n",
    "import matplotlib.pyplot as plt"
   ]
  },
  {
   "attachments": {},
   "cell_type": "markdown",
   "metadata": {},
   "source": [
    "## 极大似然与各损失函数关系\n",
    "### 极大似然与平方损失\n",
    "平方损失函数的形式为\n",
    "$$\n",
    "L(Y|f(X))=\\sum^N{(Y-f(X))^2}\n",
    "$$\n",
    "在一些回归问题或者神经网络的应用中，根据输入数据和输出数据，有似然函数\n",
    "$$\n",
    "L=\\prod^N{P(X, Y)}=\\prod^N{P(Y|X)P(X)}\n",
    "$$\n",
    "$X$为输入数据，$Y$为目标输出数据。取负对数似然:\n",
    "$$\n",
    "-lnL=-\\sum^N{(P(Y|X)+P(X))}\n",
    "$$\n",
    "假设目标数据服从高斯分布\n",
    "$$\n",
    "P(Y|X)=\\frac{1}{\\sqrt{2\\pi\\sigma^2}}e^{\\frac{(Y-f(X))^2}{2\\sigma^2}}\n",
    "$$\n",
    "似然函数为\n",
    "$$\n",
    "L=\\prod^N{P(X, Y)}={\\frac{1}{\\sqrt{2\\pi\\sigma^2}}\\prod^N{\\frac{(Y-f(X))^2}{2\\sigma^2}}}\n",
    "$$\n",
    "取负对数似然作误差\n",
    "$$\n",
    "\\begin{aligned}\n",
    "E&=-ln{\\frac{1}{\\sqrt{2\\pi\\sigma^2}}\\prod^N{\\frac{(Y-f(X))^2}{2\\sigma^2}}} \\\\\n",
    "&=\\frac{1}{2\\sigma^2}\\sum^N{(Y-f(X))^2}+\\sum^N{ln(\\sqrt{2\\pi\\sigma^2})}\n",
    "\\end{aligned}\n",
    "$$\n",
    "除去一些常数项，实际上我们需要最小化的内容是\n",
    "$$\n",
    "\\sum^N{(Y-f(X))^2}\n",
    "$$\n",
    "这就是平方误差函数。在神经网络中，这个函数实际上是一个关于权重$w$的函数，最小化该损失函数从而可以调整权重，使得神经网络模型（或者回归函数）的拟合效果更好。"
   ]
  },
  {
   "cell_type": "code",
   "execution_count": null,
   "metadata": {},
   "outputs": [],
   "source": []
  },
  {
   "attachments": {},
   "cell_type": "markdown",
   "metadata": {},
   "source": [
    "## 极大似然与交叉熵损失\n",
    "信息熵$H=-\\log{p}$用于描述系统的不确定度，$p$是事件发生的概率。熵越大表示系统的不确定度越大。\n",
    "<center>\n",
    "<img src=\"img/Argentina vs France.png\" width=300 height=200/>\n",
    "<img src=\"img/China vs Argentina.png\" width=300 height=200/>\n",
    "</center>"
   ]
  },
  {
   "cell_type": "code",
   "execution_count": null,
   "metadata": {},
   "outputs": [],
   "source": [
    "# 想要用信息熵描述比赛结果\n",
    "# 比如阿根廷和法国踢球，双方各自赢的概率为0.5\n",
    "# 对于这场比赛其实我们很难确定到底谁会赢，所以熵应该比较大\n",
    "\n",
    "# 各自赢的信息熵\n",
    "h1, h2 = -np.log2(0.5), -np.log2(0.5)\n",
    "h1, h2, h1 + h2"
   ]
  },
  {
   "cell_type": "code",
   "execution_count": null,
   "metadata": {},
   "outputs": [],
   "source": [
    "# 如果是阿根廷和国足踢球，假设阿根廷赢的概率是0.99，国足赢的概率是0.01\n",
    "# 对于这场比赛我们应该比较确定阿根廷能够获胜，熵应该会比较小\n",
    "h3, h4 = -np.log2(0.99), -np.log2(0.01)\n",
    "h3, h4, h3 + h4 # h1+h2小于h3+h4，说明后者的不确定度更大，这是不合理的"
   ]
  },
  {
   "cell_type": "code",
   "execution_count": null,
   "metadata": {},
   "outputs": [],
   "source": [
    "# 故直接相加应该是不合理的，实际上应该乘以各自对系统贡献熵的权重\n",
    "H1 = 0.5*h1 + 0.5*h2\n",
    "H2 = 0.99*h3 + 0.01*h4\n",
    "H1, H2 # 这个值的大小是合理的"
   ]
  },
  {
   "attachments": {},
   "cell_type": "markdown",
   "metadata": {},
   "source": [
    "类似地，我们可以得到交叉熵的定义\n",
    "$$\n",
    "H(P,Q)=-\\sum\\limits_{i=1}^N{(p_i\\log{p_i}+(1-p_i)\\log{(1-p_i)})}\n",
    "$$\n",
    "交叉熵可以用于度量两个概率分布之间的差异性。"
   ]
  },
  {
   "cell_type": "code",
   "execution_count": null,
   "metadata": {},
   "outputs": [],
   "source": []
  },
  {
   "attachments": {},
   "cell_type": "markdown",
   "metadata": {},
   "source": [
    "对于抛硬币模型，似然函数\n",
    "$$\n",
    "\\begin{aligned}\n",
    "L&=\\prod\\limits_{i=1}^N{p(A_i|\\theta)} \\\\\n",
    "&=\\theta^n(1-\\theta)^{N-n} \\\\\n",
    "\\end{aligned}\n",
    "$$\n",
    "取负对数似然\n",
    "$$\n",
    "\\begin{aligned}\n",
    "-\\log{L}=-\\sum\\limits_{i=1}^N{n\\log{\\theta}+(N-n)\\log{(1-\\theta)}}\n",
    "\\end{aligned}\n",
    "$$\n",
    "两边除以$N$\n",
    "$$\n",
    "-\\frac{1}{N}\\log{L}=-\\sum\\limits_{i=1}^N{(\\frac{n}{N}\\log{\\theta}+(1-\\frac{n}{N})\\log{(1-\\theta)})}\n",
    "$$\n",
    "我们看到这个式子的形式类似于交叉熵。对该式采用极大似然估计，就是最小化负对数似然，实际上也是在最小化交叉熵损失，使得系统模型的不确定度最小，模型输出结果概率上更有可能于我们想要得到的结果。\n"
   ]
  },
  {
   "cell_type": "code",
   "execution_count": null,
   "metadata": {},
   "outputs": [],
   "source": []
  }
 ],
 "metadata": {
  "kernelspec": {
   "display_name": "d2l",
   "language": "python",
   "name": "python3"
  },
  "language_info": {
   "name": "python",
   "version": "3.9.15"
  },
  "orig_nbformat": 4,
  "vscode": {
   "interpreter": {
    "hash": "df562dcd1d76bcbbe733a60192dab9872c196c265a592069f39e17fd97b522a1"
   }
  }
 },
 "nbformat": 4,
 "nbformat_minor": 2
}
